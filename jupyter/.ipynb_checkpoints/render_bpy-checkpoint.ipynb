{
 "cells": [
  {
   "cell_type": "code",
   "execution_count": 14,
   "id": "8abee8e5-974d-47cb-adaa-d29f50cb5a47",
   "metadata": {},
   "outputs": [],
   "source": [
    "import bpy\n",
    "import numpy\n",
    "import cv2\n",
    "import os\n",
    "from os.path import abspath"
   ]
  },
  {
   "cell_type": "code",
   "execution_count": 25,
   "id": "c38f9c63-03b0-499f-bdf6-8680f86f5b35",
   "metadata": {},
   "outputs": [
    {
     "name": "stdout",
     "output_type": "stream",
     "text": [
      "d:\\Users\\shums\\kasika\\20240508\\panorama.png\n",
      "{'FINISHED'}\n",
      "<class 'set'>\n"
     ]
    }
   ],
   "source": [
    "# シーン(.blend)のファイルパス\n",
    "scene_path = 'D:\\\\Users\\\\shums\\\\kasika\\\\20240403\\\\sample.blend'\n",
    "# 環境マップのファイルパス\n",
    "image_path = \"D:\\\\Users\\shums\\\\kasika\\\\20240403\\\\kloofendal_43d_clear_puresky_4k.hdr\"\n",
    "# 出力パスのファイルパス\n",
    "output_path= abspath(\"./../panorama.png\")\n",
    "# 出力パス（色）のファイルパス\n",
    "output_color_path = abspath(\"./../panorama_color\")\n",
    "# 出力パス（深度）のファイルパス\n",
    "output_depth_path = abspath(\"./../panorama_depth\")\n",
    "# カメラの位置\n",
    "camera_location = (-300.83941650390625, 240, 573.3252563476562)\n",
    "# Cameraの傾き\n",
    "camera_rotation_euler = (0.5923483967781067, -5.425288236438064e-07, -2.2452006340026855)\n",
    "# Cameraのクリップ範囲\n",
    "camera_clip_start = 0.001\n",
    "camera_clip_end = 10000\n",
    "print(output_path)\n",
    "res = bpy.ops.wm.open_mainfile(filepath=scene_path)\n",
    "print(res)\n",
    "print(type(res))"
   ]
  },
  {
   "cell_type": "code",
   "execution_count": 25,
   "id": "e919a362-9e98-4184-967a-836bcd793c30",
   "metadata": {},
   "outputs": [
    {
     "name": "stdout",
     "output_type": "stream",
     "text": [
      "d:\\Users\\shums\\kasika\\20240508\\panorama.png\n",
      "{'FINISHED'}\n",
      "<class 'set'>\n"
     ]
    }
   ],
   "source": [
    "# シーン(.blend)のファイルパス\n",
    "scene_path = 'D:\\\\Users\\\\shums\\\\kasika\\\\20240403\\\\sample.blend'\n",
    "# 環境マップのファイルパス\n",
    "image_path = \"D:\\\\Users\\shums\\\\kasika\\\\20240403\\\\kloofendal_43d_clear_puresky_4k.hdr\"\n",
    "# 出力パスのファイルパス\n",
    "output_path= abspath(\"./../panorama.png\")\n",
    "# 出力パス（色）のファイルパス\n",
    "output_color_path = abspath(\"./../panorama_color\")\n",
    "# 出力パス（深度）のファイルパス\n",
    "output_depth_path = abspath(\"./../panorama_depth\")\n",
    "# カメラの位置\n",
    "camera_location = (-300.83941650390625, 240, 573.3252563476562)\n",
    "# Cameraの傾き\n",
    "camera_rotation_euler = (0.5923483967781067, -5.425288236438064e-07, -2.2452006340026855)\n",
    "# Cameraのクリップ範囲\n",
    "camera_clip_start = 0.001\n",
    "camera_clip_end = 10000\n",
    "print(output_path)\n",
    "res = bpy.ops.wm.open_mainfile(filepath=scene_path)\n",
    "print(res)\n",
    "print(type(res))"
   ]
  },
  {
   "cell_type": "code",
   "execution_count": 20,
   "id": "e4ee53fd-ebc3-4319-8264-93d20e45c61a",
   "metadata": {},
   "outputs": [
    {
     "name": "stdout",
     "output_type": "stream",
     "text": [
      "location<Vector (0.0000, 0.0000)>\n",
      "scene<bpy_struct, Scene(\"Scene\") at 0x000001C4C6311638>\n",
      "output_color found: Image\n",
      "output_depth found: Depth\n",
      "Camera found: Camera\n"
     ]
    },
    {
     "data": {
      "text/plain": [
       "{'FINISHED'}"
      ]
     },
     "execution_count": 20,
     "metadata": {},
     "output_type": "execute_result"
    }
   ],
   "source": [
    "#  シーンの読み込み\n",
    "bpy.ops.wm.open_mainfile(filepath=scene_path)\n",
    "# レンダリング設定\n",
    "bpy.context.scene.render.engine                     = 'CYCLES'\n",
    "bpy.context.scene.render.image_settings.file_format = 'PNG'\n",
    "#bpy.context.scene.render.image_settings.use_preview = False\n",
    "bpy.context.scene.render.filepath                   = output_path\n",
    "bpy.context.scene.render.resolution_x               = 4096\n",
    "bpy.context.scene.render.resolution_y               = 2048\n",
    "bpy.context.scene.cycles.use_denoising              = True\n",
    "bpy.context.scene.cycles.device                     = 'GPU'\n",
    "bpy.context.scene.cycles.samples                    = 10\n",
    "bpy.context.scene.use_nodes = True\n",
    "scene_node_tree = bpy.context.scene.node_tree\n",
    "# clear default nodes\n",
    "for node in scene_node_tree.nodes:\n",
    "    scene_node_tree.nodes.remove(node)\n",
    "\n",
    "node_r_layers = scene_node_tree.nodes.new('CompositorNodeRLayers')\n",
    "node_r_layers.name = 'render layers'\n",
    "print('location'+str(node_r_layers.location)) \n",
    "print('scene'+str(node_r_layers.scene)) \n",
    "output_color = None\n",
    "output_depth = None\n",
    "\n",
    "for output in node_r_layers.outputs:\n",
    "    if output.name == 'Image':\n",
    "        output_color = output\n",
    "    if output.name == 'Depth':\n",
    "        output_depth = output\n",
    "    \n",
    "if output_color:\n",
    "    print(\"output_color found:\", output_color.name)\n",
    "else:\n",
    "    print(\"No output_color found in the render layer.\")\n",
    "         \n",
    "if output_depth:\n",
    "    print(\"output_depth found:\", output_depth.name)\n",
    "else:\n",
    "    print(\"No output_depth found in the render layer.\")\n",
    "    \n",
    "node_norm_depth = scene_node_tree.nodes.new('CompositorNodeNormalize')\n",
    "node_norm_depth.name = 'norm_depth'\n",
    "node_save_color = scene_node_tree.nodes.new('CompositorNodeOutputFile')\n",
    "node_save_color.name = 'save_color'\n",
    "node_save_color.base_path =  output_color_path\n",
    "node_save_depth = scene_node_tree.nodes.new('CompositorNodeOutputFile')\n",
    "node_save_depth.name = 'save_depth'\n",
    "node_save_depth.base_path =  output_depth_path\n",
    "\n",
    "scene_node_tree.links.new(output_color,node_save_color.inputs[0])\n",
    "scene_node_tree.links.new(output_depth,node_norm_depth.inputs[0])\n",
    "scene_node_tree.links.new(node_norm_depth.outputs[0],node_save_depth.inputs[0])\n",
    "\n",
    "\n",
    "cycles_preferences = bpy.context.preferences.addons['cycles'].preferences\n",
    "# デバイスタイプをGPUに設定\n",
    "cycles_preferences.compute_device_type = 'CUDA'\n",
    "\n",
    "# CUDAデバイスタイプを選択している場合は、OptiXを有効にする\n",
    "if cycles_preferences.compute_device_type == 'CUDA':\n",
    "    cycles_preferences.get_devices()\n",
    "\n",
    "    for device in cycles_preferences.devices:\n",
    "        if device.type == 'CUDA' and device.name == 'NVIDIA CUDA':\n",
    "            device.use = True\n",
    "            cycles_preferences.compute_device = device.name\n",
    "            cycles_preferences.compute_device_type = 'OPTIX'\n",
    "            break\n",
    "\n",
    "\n",
    "# 環境マップをロード\n",
    "image = bpy.data.images.load(image_path)\n",
    "\n",
    "# シーンの設定\n",
    "scene = bpy.context.scene\n",
    "world = scene.world\n",
    "node_background = world.node_tree.nodes['Background']\n",
    "\n",
    "# Add Environment Texture node\n",
    "node_environment = world.node_tree.nodes.new('ShaderNodeTexEnvironment')\n",
    "node_environment.image = image\n",
    "# Link all nodes\n",
    "links = world.node_tree.links\n",
    "link  = links.new(node_environment.outputs[\"Color\"], node_background.inputs[\"Color\"])\n",
    "# カメラを格納する変数を初期化\n",
    "camera = None\n",
    "# シーン内のすべてのオブジェクトを取得\n",
    "objects = bpy.context.scene.objects\n",
    "# すべてのオブジェクトをチェックしてカメラを見つける\n",
    "for obj in objects:\n",
    "    if obj.type == 'CAMERA':\n",
    "        camera = obj\n",
    "\n",
    "# カメラが見つかった場合は、それを使用する\n",
    "if camera:\n",
    "    print(\"Camera found:\", camera.name)\n",
    "else:\n",
    "    print(\"No camera found in the scene.\")\n",
    "    \n",
    "camera.data.type = 'PANO'\n",
    "camera.location  = camera_location # Cameraの位置を変更する\n",
    "camera.rotation_euler = camera_rotation_euler # Cameraの傾きを変更する\n",
    "camera.data.clip_start = camera_clip_start\n",
    "camera.data.clip_end   = camera_clip_end\n",
    "\n",
    "scene.camera = camera\n",
    "# レンダリング実行\n",
    "bpy.ops.render.render(write_still=True)"
   ]
  },
  {
   "cell_type": "code",
   "execution_count": 17,
   "id": "d6c05832-bc5b-4070-a749-f980af04fd9c",
   "metadata": {},
   "outputs": [
    {
     "data": {
      "text/plain": [
       "Euler((0.5923483967781067, -5.425288236438064e-07, -2.2452006340026855), 'XYZ')"
      ]
     },
     "execution_count": 17,
     "metadata": {},
     "output_type": "execute_result"
    }
   ],
   "source": [
    "camera.rotation_euler "
   ]
  },
  {
   "cell_type": "code",
   "execution_count": 18,
   "id": "27ee31e1-4353-4bf2-bf02-4e951007e4e5",
   "metadata": {},
   "outputs": [
    {
     "data": {
      "text/plain": [
       "Vector((-300.83941650390625, 240.0, 573.3252563476562))"
      ]
     },
     "execution_count": 18,
     "metadata": {},
     "output_type": "execute_result"
    }
   ],
   "source": [
    "camera.location"
   ]
  },
  {
   "cell_type": "code",
   "execution_count": null,
   "id": "dd2a70ce-2981-49b7-9766-607aaed51644",
   "metadata": {},
   "outputs": [],
   "source": []
  }
 ],
 "metadata": {
  "kernelspec": {
   "display_name": "Python 3 (ipykernel)",
   "language": "python",
   "name": "python3"
  },
  "language_info": {
   "codemirror_mode": {
    "name": "ipython",
    "version": 3
   },
   "file_extension": ".py",
   "mimetype": "text/x-python",
   "name": "python",
   "nbconvert_exporter": "python",
   "pygments_lexer": "ipython3",
   "version": "3.11.9"
  }
 },
 "nbformat": 4,
 "nbformat_minor": 5
}
