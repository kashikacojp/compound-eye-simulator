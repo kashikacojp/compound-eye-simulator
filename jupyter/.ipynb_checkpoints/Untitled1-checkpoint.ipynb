{
 "cells": [
  {
   "cell_type": "code",
   "execution_count": 2,
   "id": "a9a86b67",
   "metadata": {},
   "outputs": [
    {
     "name": "stdout",
     "output_type": "stream",
     "text": [
      "nx=3, ny=3\n"
     ]
    },
    {
     "ename": "NameError",
     "evalue": "name 'create_hex_grid' is not defined",
     "output_type": "error",
     "traceback": [
      "\u001b[1;31m---------------------------------------------------------------------------\u001b[0m",
      "\u001b[1;31mNameError\u001b[0m                                 Traceback (most recent call last)",
      "Cell \u001b[1;32mIn[2], line 28\u001b[0m\n\u001b[0;32m     24\u001b[0m     ny \u001b[38;5;241m=\u001b[39m\u001b[38;5;28mint\u001b[39m(np\u001b[38;5;241m.\u001b[39mceil((y_range\u001b[38;5;241m/\u001b[39mdiam\u001b[38;5;241m-\u001b[39m\u001b[38;5;241m1\u001b[39m)\u001b[38;5;241m*\u001b[39m(\u001b[38;5;241m4.0\u001b[39m\u001b[38;5;241m/\u001b[39m\u001b[38;5;241m3.0\u001b[39m)) )\n\u001b[0;32m     26\u001b[0m \u001b[38;5;28mprint\u001b[39m(\u001b[38;5;124m\"\u001b[39m\u001b[38;5;124mnx=\u001b[39m\u001b[38;5;124m\"\u001b[39m\u001b[38;5;241m+\u001b[39m\u001b[38;5;28mstr\u001b[39m(nx)\u001b[38;5;241m+\u001b[39m\u001b[38;5;124m\"\u001b[39m\u001b[38;5;124m, ny=\u001b[39m\u001b[38;5;124m\"\u001b[39m\u001b[38;5;241m+\u001b[39m\u001b[38;5;28mstr\u001b[39m(ny))\n\u001b[1;32m---> 28\u001b[0m hex_centers, ax \u001b[38;5;241m=\u001b[39m \u001b[43mcreate_hex_grid\u001b[49m(nx\u001b[38;5;241m=\u001b[39mnx,\n\u001b[0;32m     29\u001b[0m                                   ny\u001b[38;5;241m=\u001b[39mny,\n\u001b[0;32m     30\u001b[0m                                   min_diam\u001b[38;5;241m=\u001b[39mdiam,\n\u001b[0;32m     31\u001b[0m                                   do_plot\u001b[38;5;241m=\u001b[39m\u001b[38;5;28;01mTrue\u001b[39;00m)\n\u001b[0;32m     32\u001b[0m max_x \u001b[38;5;241m=\u001b[39m np\u001b[38;5;241m.\u001b[39mmax(hex_centers[:, \u001b[38;5;241m0\u001b[39m]) \n\u001b[0;32m     33\u001b[0m max_y \u001b[38;5;241m=\u001b[39m np\u001b[38;5;241m.\u001b[39mmax(hex_centers[:, \u001b[38;5;241m1\u001b[39m])\n",
      "\u001b[1;31mNameError\u001b[0m: name 'create_hex_grid' is not defined"
     ]
    }
   ],
   "source": [
    "from thirdparty import hexalattice\n",
    "import numpy as np\n",
    "import inspect as isp\n",
    "from inspect import getmembers\n",
    "for get in getmembers(hexalattice):\n",
    "    print(get)\n",
    "\n",
    "x_size  = 256\n",
    "y_size  = 256\n",
    "x_range = x_size * 1.2\n",
    "y_range = y_size * 1.2\n",
    "diam    = 128\n",
    "\n",
    "# x_size = (1/2 + nx) * diam * sqrt(3)/2  -> (x_size/(diam * sqrt(3)/2))-1/2\n",
    "# y_size = (1 * 3/4 * ny) * diam          -> (y_size/diam-1)*4/3\n",
    "\n",
    "nx = 3\n",
    "ny = None\n",
    "\n",
    "if (nx is None) and (ny is None):\n",
    "    nx =int(np.ceil((x_range/(diam * np.sqrt(3.0)/2.0))-0.5))\n",
    "    ny =int(np.ceil((y_range/diam-1)*(4.0/3.0)))\n",
    "elif (nx is None):\n",
    "    diam = y_size / ( (ny * 3.0/4.0)+1)\n",
    "    nx   = int(np.ceil((x_range/(diam * np.sqrt(3.0)/2.0))-0.5))\n",
    "elif (ny is None):\n",
    "    diam = x_range/((nx+1/2)*np.sqrt(3)/2)\n",
    "    ny =int(np.ceil((y_range/diam-1)*(4.0/3.0)) )\n",
    "\n",
    "print(\"nx=\"+str(nx)+\", ny=\"+str(ny))\n",
    "\n",
    "hex_centers, ax = create_hex_grid(nx=nx,\n",
    "                                  ny=ny,\n",
    "                                  min_diam=diam,\n",
    "                                  do_plot=True)\n",
    "max_x = np.max(hex_centers[:, 0]) \n",
    "max_y = np.max(hex_centers[:, 1])\n",
    "min_x = np.min(hex_centers[:, 0]) \n",
    "min_y = np.min(hex_centers[:, 1])\n",
    "\n",
    "cen_x =(max_x+min_x)/2\n",
    "cen_y =(max_y+min_y)/2\n",
    "\n",
    "print(\"[\"+str(min_x)+\",\"+str(max_x)+\"]x[\"+str(min_y)+\",\"+str(max_y)+\"]\")\n",
    "\n",
    "bound_min_x = cen_x - x_size/2\n",
    "bound_max_x = cen_x + x_size/2\n",
    "bound_min_y = cen_y - y_size/2\n",
    "bound_max_y = cen_y + y_size/2\n",
    "\n",
    "print(\"[\"+str(bound_min_x)+\",\"+str(bound_max_x)+\"]x[\"+str(bound_min_y)+\",\"+str(bound_max_y)+\"]\")\n",
    "\n",
    "ax.axis(\"off\")\n",
    "plt.xlim(bound_min_x,bound_max_x)       \n",
    "plt.ylim(bound_min_y,bound_max_y) \n",
    "plt.show()    # import matplotlib.pyplot as plt"
   ]
  },
  {
   "cell_type": "code",
   "execution_count": null,
   "id": "970a7b36",
   "metadata": {},
   "outputs": [],
   "source": [
    "x_hex_coords = hex_centers[:, 0]\n",
    "y_hex_coords = hex_centers[:, 1]\n",
    "image_path = 'D:\\\\Users\\\\shums\\\\kasika\\\\20240508\\\\output\\\\gauss_output.png'     # Works with .png, .jpg, .tif\n",
    "colors = 255*sample_colors_from_image_by_grid(image_path, x_hex_coords, y_hex_coords)\n",
    "# print(colors)"
   ]
  },
  {
   "cell_type": "code",
   "execution_count": null,
   "id": "15073b17",
   "metadata": {},
   "outputs": [],
   "source": [
    "ax = plot_single_lattice_custom_colors(x_hex_coords, y_hex_coords,\n",
    "                                  face_color  =colors,\n",
    "                                  edge_color  =colors,\n",
    "                                  min_diam    =diam*0.99,\n",
    "                                  plotting_gap=0.05,\n",
    "                                  rotate_deg  =0)\n",
    "# print(ax)      \n",
    "# print(hex_centers)                     \n",
    "ax.axis(\"off\")\n",
    "plt.xlim(bound_min_x,bound_max_x)       \n",
    "plt.ylim(bound_min_y,bound_max_y) \n",
    "plt.show()"
   ]
  },
  {
   "cell_type": "code",
   "execution_count": null,
   "id": "c41dd6ed",
   "metadata": {},
   "outputs": [],
   "source": []
  },
  {
   "cell_type": "code",
   "execution_count": null,
   "id": "43038471-2394-475b-9a2c-0cb46fd25437",
   "metadata": {},
   "outputs": [],
   "source": []
  }
 ],
 "metadata": {
  "kernelspec": {
   "display_name": "Python 3 (ipykernel)",
   "language": "python",
   "name": "python3"
  },
  "language_info": {
   "codemirror_mode": {
    "name": "ipython",
    "version": 3
   },
   "file_extension": ".py",
   "mimetype": "text/x-python",
   "name": "python",
   "nbconvert_exporter": "python",
   "pygments_lexer": "ipython3",
   "version": "3.11.9"
  }
 },
 "nbformat": 4,
 "nbformat_minor": 5
}
